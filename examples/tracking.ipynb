{
 "cells": [
  {
   "cell_type": "markdown",
   "metadata": {},
   "source": [
    "# Tracking of YeastMate detections over timeseries\n",
    "\n",
    "By default, YeastMate processes every 2D input image independently. In case you want to specfifically analyze time series, this notebook provides to code to match cells across frames via simple overlap-based tracking."
   ]
  },
  {
   "cell_type": "markdown",
   "metadata": {},
   "source": [
    "## 1) Function definitions\n",
    "\n",
    "Run the cell below to define the function we will be using to track our results: ```track_yeastmate_results(masks, jsons, min_iou=0.5)```. It expects a list of masks and detection JSON-dicts and will match labels above a defined minimum overlap ```min_iou``` in them."
   ]
  },
  {
   "cell_type": "code",
   "execution_count": null,
   "metadata": {},
   "outputs": [],
   "source": [
    "from itertools import count\n",
    "from operator import sub\n",
    "from copy import deepcopy\n",
    "\n",
    "import numpy as np\n",
    "from skimage.metrics import contingency_table\n",
    "from skimage.segmentation import relabel_sequential\n",
    "from scipy.optimize import linear_sum_assignment\n",
    "\n",
    "def get_mask_ious(mask1, mask2):\n",
    "    # relabel to ensure masks start at 1\n",
    "    mask1, _, _ = relabel_sequential(mask1)\n",
    "    mask2, _, _ = relabel_sequential(mask2)\n",
    "    intersection = contingency_table(mask1, mask2).toarray()\n",
    "    union = np.add.outer(np.diag(contingency_table(mask1, mask1).toarray()), np.diag(contingency_table(mask2, mask2).toarray())) - intersection\n",
    "    # drop background (0) row and col\n",
    "    return (intersection / union)[1:,1:]\n",
    "\n",
    "def match_ious(ious, min_iou):\n",
    "    ious[ious < min_iou] = 0\n",
    "    rows, cols = linear_sum_assignment(ious, maximize=True)\n",
    "\n",
    "    valid = ious[rows, cols] > min_iou\n",
    "    return rows[valid], cols[valid]\n",
    "\n",
    "def relabel_mask_next_frame(mask_prev, mask_next, min_iou, max_label=0):\n",
    "\n",
    "    # previous mask as sequential starting from 1\n",
    "    # we need the inverse map indices of matched rows to values in prev. frame\n",
    "    seq_mask_prev, _, inv_prev = relabel_sequential(mask_prev)\n",
    "    # next mask starts at previous max value + 1\n",
    "    seq_mask_next, fwd_next, inv_next = relabel_sequential(mask_next, max_label+1)\n",
    "\n",
    "    # get matching prev -> next (indices correspond to sequential idxs in seq_masks)\n",
    "    rows, cols = match_ious(get_mask_ious(seq_mask_prev, seq_mask_next), min_iou)\n",
    "\n",
    "    # keep track of unmatched labels in next frame\n",
    "    unmatched_keys = set(np.unique(mask_next))\n",
    "    unmatched_keys.remove(0)\n",
    "    # standard map of labels\n",
    "    label_map = dict()\n",
    "    for (r,c) in zip(rows, cols):\n",
    "        # change map to value from previous frame\n",
    "        fwd_next[inv_next[c+max_label+1]] = inv_prev[r+1]\n",
    "        # also keep in standard map\n",
    "        label_map[inv_next[c+max_label+1]] = inv_prev[r+1]\n",
    "        unmatched_keys.remove(inv_next[c+max_label+1])\n",
    "\n",
    "    # re-index unmatched labels from start values (to prevent jumps in labels)\n",
    "    dst = count(max_label+1)\n",
    "    for src in unmatched_keys:\n",
    "        v = next(dst)\n",
    "        fwd_next[src] = v\n",
    "        label_map[src] = v\n",
    "\n",
    "    # apply to mask\n",
    "    seq_mask_next = fwd_next[mask_next]\n",
    "\n",
    "    return seq_mask_next, np.max([max_label, np.max(seq_mask_next)]), label_map\n",
    "\n",
    "def match_boxes(boxes_map1, boxes_map2, min_iou, max_label=0):\n",
    "\n",
    "    # get list of keys as int and boxes as array in same order\n",
    "    keys1 = list(map(int, boxes_map1.keys()))\n",
    "    keys2 = list(map(int, boxes_map2.keys()))\n",
    "    a = np.array(list(boxes_map1.values()))\n",
    "    b = np.array(list(boxes_map2.values()))\n",
    "\n",
    "    res = dict()\n",
    "    if not(len(a)==0 or len(b)==0):\n",
    "\n",
    "        # get max mins and min maxes\n",
    "        ymin = np.maximum.outer(a[:,0], b[:,0])\n",
    "        ymax = np.minimum.outer(a[:,2], b[:,2])\n",
    "        xmin = np.maximum.outer(a[:,1], b[:,1])\n",
    "        xmax = np.minimum.outer(a[:,3], b[:,3])\n",
    "        # product of intersection lenghts in x and y, clipped at 0\n",
    "        intersection = np.clip(ymax - ymin, 0, np.finfo(float).max) * np.clip(xmax - xmin, 0, np.finfo(float).max)\n",
    "\n",
    "        # get areas (rowwise product of max cols - min cols)\n",
    "        aareas = np.prod(sub(*np.split(a, 2, axis=1)[::-1]), axis=1)\n",
    "        bareas = np.prod(sub(*np.split(b, 2, axis=1)[::-1]), axis=1)\n",
    "\n",
    "        union = np.add.outer(aareas, bareas) - intersection\n",
    "        iou = intersection / union\n",
    "        iou[iou<min_iou] = 0\n",
    "\n",
    "        rows, cols = linear_sum_assignment(iou, maximize=True)\n",
    "\n",
    "        # return map from keys2 to keys1 for valid matches\n",
    "        for (r,c) in zip(rows, cols):\n",
    "            if iou[r,c] > min_iou:\n",
    "                res[keys2[c]] = keys1[r]\n",
    "\n",
    "    # for unmatched labels, give a new, sequential label\n",
    "    label_ctr = count(max_label+1)\n",
    "    for k2 in keys2:\n",
    "        if k2 not in res:\n",
    "            res[k2] = next(label_ctr)\n",
    "\n",
    "    # return map and maximum label\n",
    "    return res, np.max([max_label, max(res.values()) if len(res) > 0 else 0])\n",
    "\n",
    "def relabel_json_next_frame(json_prev, json_next, single_cell_map : dict, min_iou, max_label=0):\n",
    "\n",
    "    # get mating boxes and match\n",
    "    mating_boxes_map_prev = {k:v['box'] for k,v in json_prev.items() if v['class'][0] == '1'}\n",
    "    mating_boxes_map_next = {k:v['box'] for k,v in json_next.items() if v['class'][0] == '1'}\n",
    "    mating_map, max_label = match_boxes(mating_boxes_map_prev, mating_boxes_map_next, min_iou, max_label)\n",
    "\n",
    "    # get budding boxes and match\n",
    "    budding_boxes_map_prev = {k:v['box'] for k,v in json_prev.items() if v['class'][0] == '2'}\n",
    "    budding_boxes_map_next = {k:v['box'] for k,v in json_next.items() if v['class'][0] == '2'}\n",
    "    budding_map, max_label = match_boxes(budding_boxes_map_prev, budding_boxes_map_next, min_iou, max_label)\n",
    "\n",
    "    # get combined map of relabelling to be done in json_next\n",
    "    all_labels_map = dict()\n",
    "    all_labels_map.update(single_cell_map)\n",
    "    all_labels_map.update(mating_map)\n",
    "    all_labels_map.update(budding_map)\n",
    "\n",
    "    # actually update the json dict\n",
    "    json_next_updated = update_json(json_next, all_labels_map)\n",
    "\n",
    "    return json_next_updated, max_label\n",
    "\n",
    "def update_json(json_next, label_map):\n",
    "    # update all labels in a detections dict json_next from remapped label in label_map\n",
    "    # NB: ids in label_map are int but json_next has str labels, result will be string\n",
    "    res = {}\n",
    "    for k,v in json_next.items():\n",
    "        v = deepcopy(v)\n",
    "        v['id'] = str(label_map[int(v['id'])])\n",
    "        v['links'] = [str(label_map[int(l)]) for l in v['links']]\n",
    "        res[str(label_map[int(k)])] = v\n",
    "    return res\n",
    "\n",
    "def track_yeastmate_results(masks, jsons, min_iou=0.5):\n",
    "\n",
    "    # get maximum label in first frame\n",
    "    max_label = np.max(list(map(int, jsons[0].keys())) + [0])\n",
    "\n",
    "    # NB: we assume the first frames to be already sequentially labelled\n",
    "    out_masks = [masks[0]]\n",
    "    out_jsons = [jsons[0]]\n",
    "\n",
    "    for i in range(1, len(masks)):\n",
    "\n",
    "        # update mask for next frame\n",
    "        next_mask, max_label, label_map = relabel_mask_next_frame(out_masks[-1], masks[i], min_iou, max_label)\n",
    "        out_masks.append(next_mask)\n",
    "\n",
    "        # update json for next frame: match compound objects, update labels\n",
    "        json_next_updated, max_label = relabel_json_next_frame(out_jsons[-1], jsons[i], label_map, min_iou, max_label)\n",
    "        out_jsons.append(json_next_updated)\n",
    "\n",
    "    return out_masks, out_jsons"
   ]
  },
  {
   "cell_type": "markdown",
   "metadata": {},
   "source": [
    "## 2) Read YeastMate output\n",
    "\n",
    "In the cells below, we read the ```*_mask.tif``` and ```*_detections.json``` files produced by the standalone GUI for a folder containing a timeseries. **When adapting this to your own data, make sure that you list and read the files in the correct order** "
   ]
  },
  {
   "cell_type": "code",
   "execution_count": null,
   "metadata": {},
   "outputs": [],
   "source": [
    "import json\n",
    "from glob import glob\n",
    "\n",
    "mask_files = sorted(glob('C:/Users/david/Desktop/yit_ds1/yit_ds1_BF_frame???_mask.tif'))\n",
    "detection_files = sorted(glob('C:/Users/david/Desktop/yit_ds1/yit_ds1_BF_frame???_detections.json'))\n",
    "\n",
    "# print to make sure files are sorted\n",
    "mask_files[:10], detection_files[:10]"
   ]
  },
  {
   "cell_type": "code",
   "execution_count": null,
   "metadata": {},
   "outputs": [],
   "source": [
    "from skimage.io import imread\n",
    "\n",
    "masks = [imread(f) for f in mask_files]\n",
    "jsons = []\n",
    "for detection_file in detection_files:\n",
    "    with open(detection_file, 'r') as fd:\n",
    "        detection_json = json.load(fd)['detections']\n",
    "        jsons.append(detection_json)"
   ]
  },
  {
   "cell_type": "markdown",
   "metadata": {},
   "source": [
    "## 2) ALTERNATIVE: Predict and track from code\n",
    "\n",
    "If you want to use the YeastMate detection from code, you can apply tracking immediately."
   ]
  },
  {
   "cell_type": "code",
   "execution_count": null,
   "metadata": {},
   "outputs": [],
   "source": [
    "from glob import glob\n",
    "\n",
    "# make sure that the frames of your timeseries are sorted correctly\n",
    "files = sorted(glob('C:/Users/david/Desktop/yit_ds1/yit_ds1_BF_frame???.tif'))\n",
    "files [:10]"
   ]
  },
  {
   "cell_type": "code",
   "execution_count": null,
   "metadata": {},
   "outputs": [],
   "source": [
    "from skimage.io import imread\n",
    "from yeastmatedetector.inference import YeastMatePredictor\n",
    "\n",
    "predictor = YeastMatePredictor('../models/yeastmate.yaml')\n",
    "\n",
    "jsons = []\n",
    "masks = []\n",
    "\n",
    "# load raw images and predict with YeastMate\n",
    "for file in files:\n",
    "    img = imread(file)\n",
    "    detections, mask = predictor.inference(img)\n",
    "    jsons.append(detections)\n",
    "    masks.append(mask)"
   ]
  },
  {
   "cell_type": "markdown",
   "metadata": {},
   "source": [
    "## 3) Track timeseries\n",
    "\n",
    "Once you have a list of masks and detection dicts, you can simply use ```track_yeastmate_results``` to match labels over time."
   ]
  },
  {
   "cell_type": "code",
   "execution_count": null,
   "metadata": {},
   "outputs": [],
   "source": [
    "updated_masks, updated_jsons = track_yeastmate_results(masks, jsons, min_iou=0.25)"
   ]
  },
  {
   "cell_type": "markdown",
   "metadata": {},
   "source": [
    "To visualize the tracked masks quickly, you can use napari:"
   ]
  },
  {
   "cell_type": "code",
   "execution_count": null,
   "metadata": {},
   "outputs": [],
   "source": [
    "from napari import view_image\n",
    "\n",
    "view_image(np.stack(updated_masks))"
   ]
  },
  {
   "cell_type": "markdown",
   "metadata": {},
   "source": [
    "## 4) Save results\n",
    "\n",
    "If you have loaded output from the standalone GUI, you can overwrite the mask and detection files with updated versions using the cell below:"
   ]
  },
  {
   "cell_type": "code",
   "execution_count": null,
   "metadata": {},
   "outputs": [],
   "source": [
    "from skimage.io import imsave\n",
    "\n",
    "for mask_file, detection_file, updated_mask, updated_json in zip(mask_files, detection_files, updated_masks, updated_jsons):\n",
    "\n",
    "    # overwrite mask file with updated version\n",
    "    imsave(mask_file, updated_mask)\n",
    "\n",
    "    # read old json again\n",
    "    with open(detection_file, 'r') as fd:\n",
    "        json_old = json.load(fd)\n",
    "\n",
    "    # replace 'detections' in json\n",
    "    json_old['detections'] = updated_json\n",
    "\n",
    "    # overwrite json with updated version\n",
    "    with open(detection_file, 'w') as fd:\n",
    "        json.dump(json_old, fd, indent=1)\n"
   ]
  }
 ],
 "metadata": {
  "interpreter": {
   "hash": "f37d2ab6977ce9a32c0f991d0ccc3f1023530277f63027410d4a47190939083c"
  },
  "kernelspec": {
   "display_name": "Python 3 (ipykernel)",
   "language": "python",
   "name": "python3"
  },
  "language_info": {
   "codemirror_mode": {
    "name": "ipython",
    "version": 3
   },
   "file_extension": ".py",
   "mimetype": "text/x-python",
   "name": "python",
   "nbconvert_exporter": "python",
   "pygments_lexer": "ipython3",
   "version": "3.9.7"
  }
 },
 "nbformat": 4,
 "nbformat_minor": 4
}
