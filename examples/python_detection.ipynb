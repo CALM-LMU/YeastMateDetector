{
 "cells": [
  {
   "cell_type": "markdown",
   "metadata": {},
   "source": [
    "# YeastMate detection with the Python API\n",
    "\n",
    "The following code is a short example of how to use the Python API to detect yeast on 2D sample images."
   ]
  },
  {
   "cell_type": "code",
   "execution_count": null,
   "metadata": {},
   "outputs": [],
   "source": [
    "# YeastMate expects 2D Numpy-arrays as input\n",
    "\n",
    "from skimage.io import imread\n",
    "\n",
    "imagepath = './test_image.tif'\n",
    "\n",
    "testimage = imread(imagepath)\n",
    "\n",
    "print(testimage.shape)"
   ]
  },
  {
   "cell_type": "markdown",
   "metadata": {},
   "source": [
    "Inference is done with the YeastMatePredictor class in inference.py. It needs to be initialized with a configuration and a model weight file.\n",
    "\n",
    "It comes with with a convencience function inference, which expects a 2D image and returns a dictionary of detected objects and a segmentation mask."
   ]
  },
  {
   "cell_type": "code",
   "execution_count": null,
   "metadata": {},
   "outputs": [],
   "source": [
    "from yeastmatedetector.inference import YeastMatePredictor\n",
    "\n",
    "# If you don't specify the model path as the second argument, YeastMate will load the default model set in the config file. The default config setting will download our pre-trained model from OSF.\n",
    "predictor = YeastMatePredictor('../models/yeastmate.yaml')\n",
    "\n",
    "# You can also specify the model path as the second argument like this:\n",
    "# predictor = YeastMatePredictor('../models/yeastmate.yaml', '../models/yeastmate_weights.pth')"
   ]
  },
  {
   "cell_type": "code",
   "execution_count": null,
   "metadata": {},
   "outputs": [],
   "source": [
    "detections, mask = predictor.inference(testimage)"
   ]
  },
  {
   "cell_type": "markdown",
   "metadata": {},
   "source": [
    "The segmentation mask is a 2D array of integers, where each cell is assigned a different value."
   ]
  },
  {
   "cell_type": "code",
   "execution_count": null,
   "metadata": {},
   "outputs": [],
   "source": [
    "from matplotlib import pyplot as plt\n",
    "\n",
    "fig, axs = plt.subplots(1,2, figsize=(15,15))\n",
    "\n",
    "axs[0].imshow(testimage)\n",
    "axs[0].axis('off')\n",
    "\n",
    "axs[1].imshow(mask)\n",
    "axs[1].axis('off')\n"
   ]
  },
  {
   "cell_type": "markdown",
   "metadata": {},
   "source": [
    "The detected objects come in a dictionary, where each key is the unique identifier for the object. In the case of single cells and mother/daughter cells this identifier corresponds to its value in the segmentation mask. \n",
    "\n",
    "Each object comes with a dictionary of properties, which can be accessed by the key. It contains its id, its bounding box, a list of classes and a list of probabilities scores. An object can have multiple classes, as each cell is counted as a single cell as well as a potential member of a compound class."
   ]
  },
  {
   "cell_type": "code",
   "execution_count": null,
   "metadata": {},
   "outputs": [],
   "source": [
    "print(list(detections.values())[0])"
   ]
  },
  {
   "cell_type": "code",
   "execution_count": null,
   "metadata": {},
   "outputs": [],
   "source": [
    "# You can easily save the mask as an image and the detections as a json file\n",
    "\n",
    "import json\n",
    "from skimage.io import imsave\n",
    "\n",
    "imsave(imagepath.replace('.tif', '_mask.tif'), mask)\n",
    "\n",
    "with open(imagepath.replace('.tif', '_detections.json'), 'w') as file:\n",
    "    json.dump(detections, file, indent=1)"
   ]
  },
  {
   "cell_type": "code",
   "execution_count": null,
   "metadata": {},
   "outputs": [],
   "source": [
    "# If you want to save the detected objects in the YeastMate format, you need to add some additional metadata\n",
    "\n",
    "import os\n",
    "\n",
    "resdict = {'image': os.path.basename(imagepath), 'metadata': {}, 'detections': detections}\n",
    "\n",
    "# If your whole image is not 2D, you can set the position of your 2D slice for the detection here\n",
    "framedict = {'t':\"\", \"z\":\"\", \"c\":\"\"}\n",
    "                \n",
    "resdict['metadata']['height'] = testimage.shape[0]\n",
    "resdict['metadata']['width'] = testimage.shape[1]\n",
    "resdict['metadata']['detection_frame'] = framedict\n",
    "resdict['metadata']['source'] = 'Detection'\n",
    "resdict['metadata']['bbox_format'] = 'x1y1x2y2'\n",
    "\n",
    "with open(imagepath.replace('.tif', '_detections.json'), 'w') as file:\n",
    "    json.dump(resdict, file, indent=1)"
   ]
  },
  {
   "cell_type": "markdown",
   "metadata": {},
   "source": [
    "The main inference function comes with multiple parameters, which can be used to adjust the inference process.\n",
    "\n",
    "* score_thresholds: default {0:0.9, 1:0.75, 2:0.75}; a dictionary of score thresholds for each class. Class 0 are the single cells in the segmentation mask, class 1 are mating events and class 2 are budding evenets. You can adjust these values to your needs, if you need to reduce false negatives (lower the thresholds) or reduce false positives (increase the thresholds).\n",
    "\n",
    "* pixel_size: default 110; if your pixel size differs from the default, you can adjust this value and your images will be automatically resized to match the scale of images YeastMate was trained on.\n",
    "\n",
    "* reference_pixel_size: default 110; sets the reference pixel size that the parameter above is compared against. You only need to adjust this value if you re-trained the model on your own data.\n",
    "\n",
    "* lower_quantile: default 1.5; sets the lower percentile for normalization of the images. This is used to normalize the images to a range of 0-1. The default value returns good results for most images.\n",
    "\n",
    "* upper_quantile: default 98.5; sets the upper percentile for normalization of the images. This is used to normalize the images to a range of 0-1. The default value returns good results for most images.\n",
    "\n",
    "If you want to normalize and rescale your images yourself, you can set the quantiles to 0 and 100 and set the pixel size to the same value as the reference pixel size. This will result in no normalization and no rescaling."
   ]
  },
  {
   "cell_type": "code",
   "execution_count": null,
   "metadata": {},
   "outputs": [],
   "source": [
    "# You can  also run this code on a whole folder\n",
    "\n",
    "from glob import glob\n",
    "from yeastmatedetector.inference import YeastMatePredictor\n",
    "\n",
    "predictor = YeastMatePredictor('../models/yeastmate.yaml')\n",
    "\n",
    "imagelist = glob('./*.tif')\n",
    "\n",
    "for path in imagelist:\n",
    "    image = imread(path)\n",
    "\n",
    "    detections, mask = predictor.inference(image)\n",
    "\n",
    "    imsave(path.replace('.tif', '_mask.tif'), mask)\n",
    "\n",
    "    with open(path.replace('.tif', '_detections.json'), 'w') as file:\n",
    "        json.dump(detections, file, indent=1)\n",
    "    "
   ]
  }
 ],
 "metadata": {
  "interpreter": {
   "hash": "048c5c26b46da478e78ca6bdbeca4061bb1db9a546b8cfe9a372b6e567e9dd3f"
  },
  "kernelspec": {
   "display_name": "Python 3.9.7 64-bit ('yeastmate': conda)",
   "language": "python",
   "name": "python3"
  },
  "language_info": {
   "codemirror_mode": {
    "name": "ipython",
    "version": 3
   },
   "file_extension": ".py",
   "mimetype": "text/x-python",
   "name": "python",
   "nbconvert_exporter": "python",
   "pygments_lexer": "ipython3",
   "version": "3.9.7"
  },
  "orig_nbformat": 4
 },
 "nbformat": 4,
 "nbformat_minor": 2
}
